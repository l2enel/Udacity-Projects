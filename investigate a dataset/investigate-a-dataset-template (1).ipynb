{
 "cells": [
  {
   "cell_type": "markdown",
   "metadata": {},
   "source": [
    "# Project: Investigating IMDB Data\n",
    "\n",
    "## Table of Contents\n",
    "<ul>\n",
    "<li><a href=\"#intro\">Introduction</a></li>\n",
    "<li><a href=\"#wrangling\">Data Wrangling</a></li>\n",
    "<li><a href=\"#eda\">Exploratory Data Analysis</a></li>\n",
    "<li><a href=\"#conclusions\">Conclusions</a></li>\n",
    "</ul>"
   ]
  },
  {
   "cell_type": "markdown",
   "metadata": {},
   "source": [
    "<a id='intro'></a>\n",
    "## Introduction\n",
    "\n",
    "This report involves data analysis of the imdb database. The purpose of the analysis performed in this report is to find any strong correlations between a movie's budget and its average rating and popularity. Any movies with movie budgets of zero have been excluded from the analysis."
   ]
  },
  {
   "cell_type": "code",
   "execution_count": 79,
   "metadata": {},
   "outputs": [],
   "source": [
    "import pandas as pd\n",
    "import numpy as np\n",
    "import matplotlib.pyplot as plt\n",
    "import seaborn as sns\n",
    "% matplotlib inline\n",
    "\n",
    "plt.rcParams['figure.figsize'] = (12, 8)"
   ]
  },
  {
   "cell_type": "markdown",
   "metadata": {},
   "source": [
    "<a id='wrangling'></a>\n",
    "## Data Wrangling\n",
    "\n",
    "### General Properties"
   ]
  },
  {
   "cell_type": "code",
   "execution_count": 80,
   "metadata": {},
   "outputs": [
    {
     "data": {
      "text/html": [
       "<div>\n",
       "<style scoped>\n",
       "    .dataframe tbody tr th:only-of-type {\n",
       "        vertical-align: middle;\n",
       "    }\n",
       "\n",
       "    .dataframe tbody tr th {\n",
       "        vertical-align: top;\n",
       "    }\n",
       "\n",
       "    .dataframe thead th {\n",
       "        text-align: right;\n",
       "    }\n",
       "</style>\n",
       "<table border=\"1\" class=\"dataframe\">\n",
       "  <thead>\n",
       "    <tr style=\"text-align: right;\">\n",
       "      <th></th>\n",
       "      <th>id</th>\n",
       "      <th>imdb_id</th>\n",
       "      <th>popularity</th>\n",
       "      <th>budget</th>\n",
       "      <th>revenue</th>\n",
       "      <th>original_title</th>\n",
       "      <th>cast</th>\n",
       "      <th>homepage</th>\n",
       "      <th>director</th>\n",
       "      <th>tagline</th>\n",
       "      <th>...</th>\n",
       "      <th>overview</th>\n",
       "      <th>runtime</th>\n",
       "      <th>genres</th>\n",
       "      <th>production_companies</th>\n",
       "      <th>release_date</th>\n",
       "      <th>vote_count</th>\n",
       "      <th>vote_average</th>\n",
       "      <th>release_year</th>\n",
       "      <th>budget_adj</th>\n",
       "      <th>revenue_adj</th>\n",
       "    </tr>\n",
       "  </thead>\n",
       "  <tbody>\n",
       "    <tr>\n",
       "      <th>3115</th>\n",
       "      <td>16350</td>\n",
       "      <td>tt1029241</td>\n",
       "      <td>0.374561</td>\n",
       "      <td>0</td>\n",
       "      <td>0</td>\n",
       "      <td>Vinyan</td>\n",
       "      <td>Rufus Sewell|Emmanuelle BÃ©art|Julie Dreyfus|J...</td>\n",
       "      <td>NaN</td>\n",
       "      <td>Fabrice Du Welz</td>\n",
       "      <td>NaN</td>\n",
       "      <td>...</td>\n",
       "      <td>A couple leaves the civilized world behind and...</td>\n",
       "      <td>96</td>\n",
       "      <td>Drama|Horror|Thriller</td>\n",
       "      <td>The Film</td>\n",
       "      <td>8/30/08</td>\n",
       "      <td>13</td>\n",
       "      <td>4.4</td>\n",
       "      <td>2008</td>\n",
       "      <td>0.000000e+00</td>\n",
       "      <td>0.000000e+00</td>\n",
       "    </tr>\n",
       "    <tr>\n",
       "      <th>10489</th>\n",
       "      <td>6978</td>\n",
       "      <td>tt0090728</td>\n",
       "      <td>0.960984</td>\n",
       "      <td>25000000</td>\n",
       "      <td>11000000</td>\n",
       "      <td>Big Trouble in Little China</td>\n",
       "      <td>Kurt Russell|Kim Cattrall|Dennis Dun|James Hon...</td>\n",
       "      <td>http://www.theofficialjohncarpenter.com/big-tr...</td>\n",
       "      <td>John Carpenter</td>\n",
       "      <td>Adventure doesn't come any bigger!</td>\n",
       "      <td>...</td>\n",
       "      <td>When trucker Jack Burton agreed to take his fr...</td>\n",
       "      <td>99</td>\n",
       "      <td>Adventure|Fantasy|Action|Comedy</td>\n",
       "      <td>Twentieth Century Fox Film Corporation|TAFT En...</td>\n",
       "      <td>5/30/86</td>\n",
       "      <td>347</td>\n",
       "      <td>6.7</td>\n",
       "      <td>1986</td>\n",
       "      <td>4.973516e+07</td>\n",
       "      <td>2.188347e+07</td>\n",
       "    </tr>\n",
       "    <tr>\n",
       "      <th>9668</th>\n",
       "      <td>27786</td>\n",
       "      <td>tt0094033</td>\n",
       "      <td>0.288138</td>\n",
       "      <td>0</td>\n",
       "      <td>0</td>\n",
       "      <td>Steel Dawn</td>\n",
       "      <td>Patrick Swayze|Lisa Niemi|Anthony Zerbe|Christ...</td>\n",
       "      <td>NaN</td>\n",
       "      <td>Lance Hool</td>\n",
       "      <td>he is the desert warrior, carving the future w...</td>\n",
       "      <td>...</td>\n",
       "      <td>In a post-apocalyptic world, a warrior wanderi...</td>\n",
       "      <td>97</td>\n",
       "      <td>Action|Adventure|Science Fiction</td>\n",
       "      <td>Vestron Pictures</td>\n",
       "      <td>11/6/87</td>\n",
       "      <td>17</td>\n",
       "      <td>4.4</td>\n",
       "      <td>1987</td>\n",
       "      <td>0.000000e+00</td>\n",
       "      <td>0.000000e+00</td>\n",
       "    </tr>\n",
       "    <tr>\n",
       "      <th>4297</th>\n",
       "      <td>19819</td>\n",
       "      <td>tt0109305</td>\n",
       "      <td>0.171867</td>\n",
       "      <td>0</td>\n",
       "      <td>0</td>\n",
       "      <td>Blue Chips</td>\n",
       "      <td>Nick Nolte|Shaquille O'Neal|Mary McDonnell|J. ...</td>\n",
       "      <td>NaN</td>\n",
       "      <td>William Friedkin</td>\n",
       "      <td>NaN</td>\n",
       "      <td>...</td>\n",
       "      <td>Pete Bell, a college basketball coach is under...</td>\n",
       "      <td>108</td>\n",
       "      <td>Drama</td>\n",
       "      <td>Paramount Pictures</td>\n",
       "      <td>2/18/94</td>\n",
       "      <td>20</td>\n",
       "      <td>5.7</td>\n",
       "      <td>1994</td>\n",
       "      <td>0.000000e+00</td>\n",
       "      <td>0.000000e+00</td>\n",
       "    </tr>\n",
       "    <tr>\n",
       "      <th>8363</th>\n",
       "      <td>2470</td>\n",
       "      <td>tt0103791</td>\n",
       "      <td>0.128025</td>\n",
       "      <td>0</td>\n",
       "      <td>0</td>\n",
       "      <td>Belle Ã‰poque</td>\n",
       "      <td>PenÃ©lope Cruz|Gabino Diego|Ariadna Gil|Fernan...</td>\n",
       "      <td>NaN</td>\n",
       "      <td>Fernando Trueba</td>\n",
       "      <td>A sexy, lusty uninhibited comedy.</td>\n",
       "      <td>...</td>\n",
       "      <td>In 1931, a young soldier deserts from the army...</td>\n",
       "      <td>109</td>\n",
       "      <td>Comedy|Drama|Foreign|Romance</td>\n",
       "      <td>Sogepaq|AnimatÃ³grafo|Fernando Trueba Producci...</td>\n",
       "      <td>12/4/92</td>\n",
       "      <td>13</td>\n",
       "      <td>6.9</td>\n",
       "      <td>1992</td>\n",
       "      <td>0.000000e+00</td>\n",
       "      <td>0.000000e+00</td>\n",
       "    </tr>\n",
       "  </tbody>\n",
       "</table>\n",
       "<p>5 rows × 21 columns</p>\n",
       "</div>"
      ],
      "text/plain": [
       "          id    imdb_id  popularity    budget   revenue  \\\n",
       "3115   16350  tt1029241    0.374561         0         0   \n",
       "10489   6978  tt0090728    0.960984  25000000  11000000   \n",
       "9668   27786  tt0094033    0.288138         0         0   \n",
       "4297   19819  tt0109305    0.171867         0         0   \n",
       "8363    2470  tt0103791    0.128025         0         0   \n",
       "\n",
       "                    original_title  \\\n",
       "3115                        Vinyan   \n",
       "10489  Big Trouble in Little China   \n",
       "9668                    Steel Dawn   \n",
       "4297                    Blue Chips   \n",
       "8363                 Belle Ã‰poque   \n",
       "\n",
       "                                                    cast  \\\n",
       "3115   Rufus Sewell|Emmanuelle BÃ©art|Julie Dreyfus|J...   \n",
       "10489  Kurt Russell|Kim Cattrall|Dennis Dun|James Hon...   \n",
       "9668   Patrick Swayze|Lisa Niemi|Anthony Zerbe|Christ...   \n",
       "4297   Nick Nolte|Shaquille O'Neal|Mary McDonnell|J. ...   \n",
       "8363   PenÃ©lope Cruz|Gabino Diego|Ariadna Gil|Fernan...   \n",
       "\n",
       "                                                homepage          director  \\\n",
       "3115                                                 NaN   Fabrice Du Welz   \n",
       "10489  http://www.theofficialjohncarpenter.com/big-tr...    John Carpenter   \n",
       "9668                                                 NaN        Lance Hool   \n",
       "4297                                                 NaN  William Friedkin   \n",
       "8363                                                 NaN   Fernando Trueba   \n",
       "\n",
       "                                                 tagline      ...       \\\n",
       "3115                                                 NaN      ...        \n",
       "10489                 Adventure doesn't come any bigger!      ...        \n",
       "9668   he is the desert warrior, carving the future w...      ...        \n",
       "4297                                                 NaN      ...        \n",
       "8363                   A sexy, lusty uninhibited comedy.      ...        \n",
       "\n",
       "                                                overview runtime  \\\n",
       "3115   A couple leaves the civilized world behind and...      96   \n",
       "10489  When trucker Jack Burton agreed to take his fr...      99   \n",
       "9668   In a post-apocalyptic world, a warrior wanderi...      97   \n",
       "4297   Pete Bell, a college basketball coach is under...     108   \n",
       "8363   In 1931, a young soldier deserts from the army...     109   \n",
       "\n",
       "                                 genres  \\\n",
       "3115              Drama|Horror|Thriller   \n",
       "10489   Adventure|Fantasy|Action|Comedy   \n",
       "9668   Action|Adventure|Science Fiction   \n",
       "4297                              Drama   \n",
       "8363       Comedy|Drama|Foreign|Romance   \n",
       "\n",
       "                                    production_companies release_date  \\\n",
       "3115                                            The Film      8/30/08   \n",
       "10489  Twentieth Century Fox Film Corporation|TAFT En...      5/30/86   \n",
       "9668                                    Vestron Pictures      11/6/87   \n",
       "4297                                  Paramount Pictures      2/18/94   \n",
       "8363   Sogepaq|AnimatÃ³grafo|Fernando Trueba Producci...      12/4/92   \n",
       "\n",
       "      vote_count  vote_average  release_year    budget_adj   revenue_adj  \n",
       "3115          13           4.4          2008  0.000000e+00  0.000000e+00  \n",
       "10489        347           6.7          1986  4.973516e+07  2.188347e+07  \n",
       "9668          17           4.4          1987  0.000000e+00  0.000000e+00  \n",
       "4297          20           5.7          1994  0.000000e+00  0.000000e+00  \n",
       "8363          13           6.9          1992  0.000000e+00  0.000000e+00  \n",
       "\n",
       "[5 rows x 21 columns]"
      ]
     },
     "execution_count": 80,
     "metadata": {},
     "output_type": "execute_result"
    }
   ],
   "source": [
    "df = pd.read_csv('tmdb-movies.csv')\n",
    "df.sample(5)"
   ]
  },
  {
   "cell_type": "markdown",
   "metadata": {},
   "source": [
    "### Taking a view of all the columns available in dataset and the corresponding data types\n"
   ]
  },
  {
   "cell_type": "code",
   "execution_count": 81,
   "metadata": {},
   "outputs": [
    {
     "name": "stdout",
     "output_type": "stream",
     "text": [
      "<class 'pandas.core.frame.DataFrame'>\n",
      "RangeIndex: 10866 entries, 0 to 10865\n",
      "Data columns (total 21 columns):\n",
      "id                      10866 non-null int64\n",
      "imdb_id                 10856 non-null object\n",
      "popularity              10866 non-null float64\n",
      "budget                  10866 non-null int64\n",
      "revenue                 10866 non-null int64\n",
      "original_title          10866 non-null object\n",
      "cast                    10790 non-null object\n",
      "homepage                2936 non-null object\n",
      "director                10822 non-null object\n",
      "tagline                 8042 non-null object\n",
      "keywords                9373 non-null object\n",
      "overview                10862 non-null object\n",
      "runtime                 10866 non-null int64\n",
      "genres                  10843 non-null object\n",
      "production_companies    9836 non-null object\n",
      "release_date            10866 non-null object\n",
      "vote_count              10866 non-null int64\n",
      "vote_average            10866 non-null float64\n",
      "release_year            10866 non-null int64\n",
      "budget_adj              10866 non-null float64\n",
      "revenue_adj             10866 non-null float64\n",
      "dtypes: float64(4), int64(6), object(11)\n",
      "memory usage: 1.7+ MB\n"
     ]
    }
   ],
   "source": [
    "df.info()"
   ]
  },
  {
   "cell_type": "markdown",
   "metadata": {},
   "source": [
    "### Cleaning"
   ]
  },
  {
   "cell_type": "markdown",
   "metadata": {},
   "source": [
    "### Dropping uncessary columns from the data set"
   ]
  },
  {
   "cell_type": "code",
   "execution_count": 82,
   "metadata": {},
   "outputs": [],
   "source": [
    "df.drop(['imdb_id', 'release_year', 'runtime', 'revenue', 'cast', 'homepage',\n",
    "         'director', 'tagline', 'keywords', 'overview', 'genres', 'production_companies',\n",
    "         'release_date', 'vote_count', 'budget_adj', 'revenue_adj'], axis=1, inplace=True)"
   ]
  },
  {
   "cell_type": "markdown",
   "metadata": {},
   "source": [
    "### Checking to see if there is any missing relevant data or null values"
   ]
  },
  {
   "cell_type": "code",
   "execution_count": 83,
   "metadata": {},
   "outputs": [
    {
     "name": "stdout",
     "output_type": "stream",
     "text": [
      "<class 'pandas.core.frame.DataFrame'>\n",
      "RangeIndex: 10866 entries, 0 to 10865\n",
      "Data columns (total 5 columns):\n",
      "id                10866 non-null int64\n",
      "popularity        10866 non-null float64\n",
      "budget            10866 non-null int64\n",
      "original_title    10866 non-null object\n",
      "vote_average      10866 non-null float64\n",
      "dtypes: float64(2), int64(2), object(1)\n",
      "memory usage: 424.5+ KB\n"
     ]
    }
   ],
   "source": [
    "df.info()"
   ]
  },
  {
   "cell_type": "markdown",
   "metadata": {},
   "source": [
    "### Checking to see if any movies have a budget of zero"
   ]
  },
  {
   "cell_type": "code",
   "execution_count": 84,
   "metadata": {},
   "outputs": [
    {
     "data": {
      "text/plain": [
       "id                5696\n",
       "popularity        5696\n",
       "budget            5696\n",
       "original_title    5696\n",
       "vote_average      5696\n",
       "dtype: int64"
      ]
     },
     "execution_count": 84,
     "metadata": {},
     "output_type": "execute_result"
    }
   ],
   "source": [
    "df.query('budget == {}'.format(0)).count()"
   ]
  },
  {
   "cell_type": "markdown",
   "metadata": {},
   "source": [
    "### Removing movies with a budget of zero"
   ]
  },
  {
   "cell_type": "code",
   "execution_count": 85,
   "metadata": {},
   "outputs": [],
   "source": [
    "df = df[df['budget'] != 0]"
   ]
  },
  {
   "cell_type": "markdown",
   "metadata": {},
   "source": [
    "### Repeating the previous 2 steps for popularity"
   ]
  },
  {
   "cell_type": "code",
   "execution_count": 86,
   "metadata": {},
   "outputs": [
    {
     "data": {
      "text/plain": [
       "(5170, 5)"
      ]
     },
     "execution_count": 86,
     "metadata": {},
     "output_type": "execute_result"
    }
   ],
   "source": [
    "df[df['vote_average'] != 0].shape"
   ]
  },
  {
   "cell_type": "code",
   "execution_count": 87,
   "metadata": {},
   "outputs": [
    {
     "data": {
      "text/plain": [
       "(0, 5)"
      ]
     },
     "execution_count": 87,
     "metadata": {},
     "output_type": "execute_result"
    }
   ],
   "source": [
    "df[df['popularity'] == 0].shape"
   ]
  },
  {
   "cell_type": "markdown",
   "metadata": {},
   "source": [
    "### Altering the budget column to units of thousand for easier reading."
   ]
  },
  {
   "cell_type": "code",
   "execution_count": 88,
   "metadata": {},
   "outputs": [],
   "source": [
    "df['budget'] = df['budget']/1000\n",
    "df.rename(index=str, columns={'budget':'budget_k'}, inplace=True)"
   ]
  },
  {
   "cell_type": "markdown",
   "metadata": {},
   "source": [
    "### All columns in the data set now have the same number of rows."
   ]
  },
  {
   "cell_type": "code",
   "execution_count": 89,
   "metadata": {},
   "outputs": [
    {
     "name": "stdout",
     "output_type": "stream",
     "text": [
      "<class 'pandas.core.frame.DataFrame'>\n",
      "Index: 5170 entries, 0 to 10865\n",
      "Data columns (total 5 columns):\n",
      "id                5170 non-null int64\n",
      "popularity        5170 non-null float64\n",
      "budget_k          5170 non-null float64\n",
      "original_title    5170 non-null object\n",
      "vote_average      5170 non-null float64\n",
      "dtypes: float64(3), int64(1), object(1)\n",
      "memory usage: 242.3+ KB\n"
     ]
    }
   ],
   "source": [
    "df.info()"
   ]
  },
  {
   "cell_type": "markdown",
   "metadata": {},
   "source": [
    "<a id='eda'></a>\n",
    "## Exploratory Data Analysis\n",
    "\n",
    "### Research Question 1: Do higher budget movies tend to have higher average movie ratings?\n"
   ]
  },
  {
   "cell_type": "markdown",
   "metadata": {},
   "source": [
    "### A simple scatter plot shows a low resolution view indicating that there is an insignificant increase in average rating ('vote_average') as movie budget increases.¶\n"
   ]
  },
  {
   "cell_type": "code",
   "execution_count": 90,
   "metadata": {},
   "outputs": [
    {
     "data": {
      "text/plain": [
       "Text(0.5,1,'Budget vs Vote Average')"
      ]
     },
     "execution_count": 90,
     "metadata": {},
     "output_type": "execute_result"
    },
    {
     "data": {
      "image/png": "[encoded data removed]",
      "text/plain": [
       "<matplotlib.figure.Figure at 0x1a1b374208>"
      ]
     },
     "metadata": {},
     "output_type": "display_data"
    }
   ],
   "source": [
    "df.plot.scatter(x='budget_k', y='vote_average')\n",
    "plt.title('Budget vs Vote Average')"
   ]
  },
  {
   "cell_type": "markdown",
   "metadata": {},
   "source": [
    "Further, more in-depth analysis was conducted to take a closer look at changes of mean movie ratings across different movie budgets. All movies were serperated into four different groups; very_low, low, high, and very_high. The separation into the groups was based on the movie's budget as a percentage relative to the mean movie budget across all movies. Very low budget movies consisted of movies with budgets lower than half the mean, low budget movies consisted of movies with budgets ranging from half the mean to the mean, high budget movies consisted of movies with budges from the mean to 1.5 times the mean, and very high budget movies consisted of the rest."
   ]
  },
  {
   "cell_type": "code",
   "execution_count": 91,
   "metadata": {},
   "outputs": [],
   "source": [
    "# Creating budgest categories\n",
    "\n",
    "very_low = df.budget_k.mean() * .5\n",
    "low = df.budget_k.mean() * 1\n",
    "high = df.budget_k.mean() * 1.5\n",
    "very_high = df.budget_k.mean() * 2"
   ]
  },
  {
   "cell_type": "code",
   "execution_count": 92,
   "metadata": {},
   "outputs": [],
   "source": [
    "# Placing movies in budget categories\n",
    "\n",
    "very_low_budget = df.query('budget_k <= {}'.format(very_low))\n",
    "low_budget = df.query('budget_k > {} and budget_k < {}'.format(very_low, low))\n",
    "high_budget = df.query('budget_k >= {} and budget_k < {}'.format(low, high))\n",
    "very_high_budget = df.query('budget_k >= {}'.format(high))"
   ]
  },
  {
   "cell_type": "code",
   "execution_count": 93,
   "metadata": {},
   "outputs": [],
   "source": [
    "# obtaining the mean vote average for each budget category\n",
    "\n",
    "mean_rating_very_low_budget = very_low_budget['vote_average'].mean()\n",
    "mean_rating_low_budget = low_budget['vote_average'].mean()\n",
    "mean_rating_high_budget = high_budget['vote_average'].mean()\n",
    "mean_rating_very_high_budget = very_high_budget['vote_average'].mean()\n",
    "\n",
    "vote_means = [mean_rating_very_low_budget, mean_rating_low_budget,\n",
    "             mean_rating_high_budget, mean_rating_very_high_budget]"
   ]
  },
  {
   "cell_type": "code",
   "execution_count": 94,
   "metadata": {},
   "outputs": [
    {
     "data": {
      "text/plain": [
       "Text(0,0.5,'Average Movie Rating')"
      ]
     },
     "execution_count": 94,
     "metadata": {},
     "output_type": "execute_result"
    },
    {
     "data": {
      "image/png": "[encoded data removed]",
      "text/plain": [
       "<matplotlib.figure.Figure at 0x1a19dba390>"
      ]
     },
     "metadata": {},
     "output_type": "display_data"
    }
   ],
   "source": [
    "# Plotting bar chart for vote averages for each budget type\n",
    "\n",
    "locations = [1, 2, 3, 4]\n",
    "heights = vote_means\n",
    "labels = ['very_low', 'low', 'high', 'very_high']\n",
    "plt.bar(locations, heights, tick_label=labels)\n",
    "plt.title('Average Movie Rating Across Movie Budgets')\n",
    "plt.xlabel('Movie Budget')\n",
    "plt.ylabel('Average Movie Rating')"
   ]
  },
  {
   "cell_type": "markdown",
   "metadata": {},
   "source": [
    "### Reasearch Question 2: Do higher budget movies tend to have increased popularity?"
   ]
  },
  {
   "cell_type": "markdown",
   "metadata": {
    "collapsed": true
   },
   "source": [
    "### A scatter plot view shows that there is a spike in popularity when it comes to approaching a certain budget.\n"
   ]
  },
  {
   "cell_type": "code",
   "execution_count": 95,
   "metadata": {},
   "outputs": [
    {
     "data": {
      "text/plain": [
       "<matplotlib.axes._subplots.AxesSubplot at 0x1a19d9f7f0>"
      ]
     },
     "execution_count": 95,
     "metadata": {},
     "output_type": "execute_result"
    },
    {
     "data": {
      "image/png": "[encoded data removed]",
      "text/plain": [
       "<matplotlib.figure.Figure at 0x10d4c7c50>"
      ]
     },
     "metadata": {},
     "output_type": "display_data"
    }
   ],
   "source": [
    "df.plot.scatter(x='budget_k', y='popularity')"
   ]
  },
  {
   "cell_type": "markdown",
   "metadata": {},
   "source": [
    "### Following functions will create budget categories and popularity categories.  The purpose is to eventual calculate the proportions of popularity of types for each movie budget types."
   ]
  },
  {
   "cell_type": "code",
   "execution_count": 96,
   "metadata": {},
   "outputs": [],
   "source": [
    "# budget categorizing function\n",
    "\n",
    "def categorize(num):\n",
    "    mean = df['budget_k'].mean()\n",
    "    if num < (mean * .5):\n",
    "        return('very_low')\n",
    "    elif num >= (mean * .5) and num < mean:\n",
    "        return('low')\n",
    "    elif num >= mean and num < (mean * 1.5):\n",
    "        return('high')\n",
    "    else:\n",
    "        return('very_high')\n",
    "\n",
    "# applying function to budget_k column\n",
    "df['budget_category'] = df['budget_k'].apply(categorize)"
   ]
  },
  {
   "cell_type": "code",
   "execution_count": 97,
   "metadata": {},
   "outputs": [],
   "source": [
    "# popularity categorizing function\n",
    "\n",
    "def categorize2(num):\n",
    "    mean = df['popularity'].mean()\n",
    "    if num < (mean * .5):\n",
    "        return('very_low')\n",
    "    elif num >= (mean * .5) and num < mean:\n",
    "        return('low')\n",
    "    elif num >= mean and num < (mean * 1.5):\n",
    "        return('high')\n",
    "    else:\n",
    "        return('very_high')\n",
    "\n",
    "# applying function to popularity column\n",
    "df['popularity_category'] = df['popularity'].apply(categorize2)"
   ]
  },
  {
   "cell_type": "code",
   "execution_count": 98,
   "metadata": {},
   "outputs": [
    {
     "data": {
      "text/html": [
       "<div>\n",
       "<style scoped>\n",
       "    .dataframe tbody tr th:only-of-type {\n",
       "        vertical-align: middle;\n",
       "    }\n",
       "\n",
       "    .dataframe tbody tr th {\n",
       "        vertical-align: top;\n",
       "    }\n",
       "\n",
       "    .dataframe thead th {\n",
       "        text-align: right;\n",
       "    }\n",
       "</style>\n",
       "<table border=\"1\" class=\"dataframe\">\n",
       "  <thead>\n",
       "    <tr style=\"text-align: right;\">\n",
       "      <th></th>\n",
       "      <th>id</th>\n",
       "      <th>popularity</th>\n",
       "      <th>budget_k</th>\n",
       "      <th>original_title</th>\n",
       "      <th>vote_average</th>\n",
       "      <th>budget_category</th>\n",
       "      <th>popularity_category</th>\n",
       "    </tr>\n",
       "  </thead>\n",
       "  <tbody>\n",
       "    <tr>\n",
       "      <th>0</th>\n",
       "      <td>135397</td>\n",
       "      <td>32.985763</td>\n",
       "      <td>150000.0</td>\n",
       "      <td>Jurassic World</td>\n",
       "      <td>6.5</td>\n",
       "      <td>very_high</td>\n",
       "      <td>very_high</td>\n",
       "    </tr>\n",
       "    <tr>\n",
       "      <th>1</th>\n",
       "      <td>76341</td>\n",
       "      <td>28.419936</td>\n",
       "      <td>150000.0</td>\n",
       "      <td>Mad Max: Fury Road</td>\n",
       "      <td>7.1</td>\n",
       "      <td>very_high</td>\n",
       "      <td>very_high</td>\n",
       "    </tr>\n",
       "    <tr>\n",
       "      <th>2</th>\n",
       "      <td>262500</td>\n",
       "      <td>13.112507</td>\n",
       "      <td>110000.0</td>\n",
       "      <td>Insurgent</td>\n",
       "      <td>6.3</td>\n",
       "      <td>very_high</td>\n",
       "      <td>very_high</td>\n",
       "    </tr>\n",
       "    <tr>\n",
       "      <th>3</th>\n",
       "      <td>140607</td>\n",
       "      <td>11.173104</td>\n",
       "      <td>200000.0</td>\n",
       "      <td>Star Wars: The Force Awakens</td>\n",
       "      <td>7.5</td>\n",
       "      <td>very_high</td>\n",
       "      <td>very_high</td>\n",
       "    </tr>\n",
       "    <tr>\n",
       "      <th>4</th>\n",
       "      <td>168259</td>\n",
       "      <td>9.335014</td>\n",
       "      <td>190000.0</td>\n",
       "      <td>Furious 7</td>\n",
       "      <td>7.3</td>\n",
       "      <td>very_high</td>\n",
       "      <td>very_high</td>\n",
       "    </tr>\n",
       "  </tbody>\n",
       "</table>\n",
       "</div>"
      ],
      "text/plain": [
       "       id  popularity  budget_k                original_title  vote_average  \\\n",
       "0  135397   32.985763  150000.0                Jurassic World           6.5   \n",
       "1   76341   28.419936  150000.0            Mad Max: Fury Road           7.1   \n",
       "2  262500   13.112507  110000.0                     Insurgent           6.3   \n",
       "3  140607   11.173104  200000.0  Star Wars: The Force Awakens           7.5   \n",
       "4  168259    9.335014  190000.0                     Furious 7           7.3   \n",
       "\n",
       "  budget_category popularity_category  \n",
       "0       very_high           very_high  \n",
       "1       very_high           very_high  \n",
       "2       very_high           very_high  \n",
       "3       very_high           very_high  \n",
       "4       very_high           very_high  "
      ]
     },
     "execution_count": 98,
     "metadata": {},
     "output_type": "execute_result"
    }
   ],
   "source": [
    "# viewing new columns\n",
    "df.head()"
   ]
  },
  {
   "cell_type": "code",
   "execution_count": 99,
   "metadata": {},
   "outputs": [],
   "source": [
    "# create counts for popularity types for each budget type and the total of each budget type\n",
    "\n",
    "budget_counts = df.groupby(['budget_category',\n",
    "                            'popularity_category']).count()['id']\n",
    "budget_totals = df.groupby('budget_category').count()['popularity_category']\n",
    "\n",
    "# calculting the proportiongs of popularity types for each budget type\n",
    "\n",
    "very_low_proportions = budget_counts['very_low'] / budget_totals['very_low']\n",
    "low_proportions = budget_counts['low'] / budget_totals['low']\n",
    "high_proportions = budget_counts['high'] / budget_totals['high']\n",
    "very_high_proportions = budget_counts['very_high'] / budget_totals['very_high']"
   ]
  },
  {
   "cell_type": "code",
   "execution_count": 100,
   "metadata": {},
   "outputs": [
    {
     "data": {
      "text/plain": [
       "<matplotlib.legend.Legend at 0x1a1ada6048>"
      ]
     },
     "execution_count": 100,
     "metadata": {},
     "output_type": "execute_result"
    },
    {
     "data": {
      "image/png": "[encoded data removed]",
      "text/plain": [
       "<matplotlib.figure.Figure at 0x1a1ada6978>"
      ]
     },
     "metadata": {},
     "output_type": "display_data"
    }
   ],
   "source": [
    "# plotting bar chart\n",
    "ind1 = np.arange(len(very_low_proportions))\n",
    "ind2 = np.arange(len(low_proportions))\n",
    "ind3 = np.arange(len(high_proportions))\n",
    "ind4 = np.arange(len(very_high_proportions))\n",
    "width = 0.2\n",
    "\n",
    "very_low_bars = plt.bar(ind1, very_low_proportions, width, color='r', alpha=.7, label='very low')\n",
    "low_bars = plt.bar(ind2 + width, low_proportions, width, color='y', alpha=.7, label='low')\n",
    "high_bars = plt.bar(ind3 + width + width, high_proportions, width, color='b', alpha=.7, label='high')\n",
    "very_high_bars = plt.bar(ind4 + width + width + width, very_high_proportions, width, color='g', alpha=.7, label='very high')\n",
    "\n",
    "# title and labels\n",
    "plt.ylabel('Proportion')\n",
    "plt.xlabel('Popularity')\n",
    "plt.title('Proportion by Budget and Popularity')\n",
    "\n",
    "# legend\n",
    "plt.legend()"
   ]
  },
  {
   "cell_type": "markdown",
   "metadata": {},
   "source": [
    "Bar chart shows the majority of the most popular movies belong to the very low budget movie categor"
   ]
  },
  {
   "cell_type": "markdown",
   "metadata": {},
   "source": [
    "### Further 1-D analysis"
   ]
  },
  {
   "cell_type": "markdown",
   "metadata": {},
   "source": [
    "### Most common movie popularity type"
   ]
  },
  {
   "cell_type": "code",
   "execution_count": 101,
   "metadata": {},
   "outputs": [
    {
     "data": {
      "text/plain": [
       "Text(0.5,1,'Counts of Popularity Type')"
      ]
     },
     "execution_count": 101,
     "metadata": {},
     "output_type": "execute_result"
    },
    {
     "data": {
      "image/png": "[encoded data removed]",
      "text/plain": [
       "<matplotlib.figure.Figure at 0x1a1d6e16d8>"
      ]
     },
     "metadata": {},
     "output_type": "display_data"
    }
   ],
   "source": [
    "plt.hist(df['popularity_category'])\n",
    "plt.ylabel('Count')\n",
    "plt.xlabel('Popularity Type')\n",
    "plt.title('Counts of Popularity Type')"
   ]
  },
  {
   "cell_type": "markdown",
   "metadata": {},
   "source": [
    "### Most common budget type"
   ]
  },
  {
   "cell_type": "code",
   "execution_count": 102,
   "metadata": {},
   "outputs": [
    {
     "data": {
      "text/plain": [
       "Text(0.5,1,'Counts of Budget Type')"
      ]
     },
     "execution_count": 102,
     "metadata": {},
     "output_type": "execute_result"
    },
    {
     "data": {
      "image/png": "[encoded data removed]",
      "text/plain": [
       "<matplotlib.figure.Figure at 0x1a1c7bc748>"
      ]
     },
     "metadata": {},
     "output_type": "display_data"
    }
   ],
   "source": [
    "plt.hist(df['budget_category'])\n",
    "plt.ylabel('Count')\n",
    "plt.xlabel('Budget Type')\n",
    "plt.title('Counts of Budget Type')"
   ]
  },
  {
   "cell_type": "markdown",
   "metadata": {},
   "source": [
    "### Distribution of ratings"
   ]
  },
  {
   "cell_type": "code",
   "execution_count": 103,
   "metadata": {},
   "outputs": [
    {
     "data": {
      "text/plain": [
       "Text(0.5,1,'Distribution of Ratings')"
      ]
     },
     "execution_count": 103,
     "metadata": {},
     "output_type": "execute_result"
    },
    {
     "data": {
      "image/png": "[encoded data removed]",
      "text/plain": [
       "<matplotlib.figure.Figure at 0x1a19f4b908>"
      ]
     },
     "metadata": {},
     "output_type": "display_data"
    }
   ],
   "source": [
    "plt.hist(df['vote_average'], bins=100)\n",
    "plt.ylabel('Count')\n",
    "plt.xlabel('Vote Average')\n",
    "plt.title('Distribution of Ratings')"
   ]
  },
  {
   "cell_type": "markdown",
   "metadata": {},
   "source": [
    "<a id='conclusions'></a>\n",
    "## Conclusions"
   ]
  },
  {
   "cell_type": "code",
   "execution_count": 104,
   "metadata": {},
   "outputs": [
    {
     "data": {
      "text/html": [
       "<div>\n",
       "<style scoped>\n",
       "    .dataframe tbody tr th:only-of-type {\n",
       "        vertical-align: middle;\n",
       "    }\n",
       "\n",
       "    .dataframe tbody tr th {\n",
       "        vertical-align: top;\n",
       "    }\n",
       "\n",
       "    .dataframe thead th {\n",
       "        text-align: right;\n",
       "    }\n",
       "</style>\n",
       "<table border=\"1\" class=\"dataframe\">\n",
       "  <thead>\n",
       "    <tr style=\"text-align: right;\">\n",
       "      <th></th>\n",
       "      <th>id</th>\n",
       "      <th>popularity</th>\n",
       "      <th>budget_k</th>\n",
       "      <th>original_title</th>\n",
       "      <th>vote_average</th>\n",
       "      <th>budget_category</th>\n",
       "      <th>popularity_category</th>\n",
       "    </tr>\n",
       "  </thead>\n",
       "  <tbody>\n",
       "    <tr>\n",
       "      <th>0</th>\n",
       "      <td>135397</td>\n",
       "      <td>32.985763</td>\n",
       "      <td>150000.0</td>\n",
       "      <td>Jurassic World</td>\n",
       "      <td>6.5</td>\n",
       "      <td>very_high</td>\n",
       "      <td>very_high</td>\n",
       "    </tr>\n",
       "    <tr>\n",
       "      <th>1</th>\n",
       "      <td>76341</td>\n",
       "      <td>28.419936</td>\n",
       "      <td>150000.0</td>\n",
       "      <td>Mad Max: Fury Road</td>\n",
       "      <td>7.1</td>\n",
       "      <td>very_high</td>\n",
       "      <td>very_high</td>\n",
       "    </tr>\n",
       "    <tr>\n",
       "      <th>2</th>\n",
       "      <td>262500</td>\n",
       "      <td>13.112507</td>\n",
       "      <td>110000.0</td>\n",
       "      <td>Insurgent</td>\n",
       "      <td>6.3</td>\n",
       "      <td>very_high</td>\n",
       "      <td>very_high</td>\n",
       "    </tr>\n",
       "    <tr>\n",
       "      <th>3</th>\n",
       "      <td>140607</td>\n",
       "      <td>11.173104</td>\n",
       "      <td>200000.0</td>\n",
       "      <td>Star Wars: The Force Awakens</td>\n",
       "      <td>7.5</td>\n",
       "      <td>very_high</td>\n",
       "      <td>very_high</td>\n",
       "    </tr>\n",
       "    <tr>\n",
       "      <th>4</th>\n",
       "      <td>168259</td>\n",
       "      <td>9.335014</td>\n",
       "      <td>190000.0</td>\n",
       "      <td>Furious 7</td>\n",
       "      <td>7.3</td>\n",
       "      <td>very_high</td>\n",
       "      <td>very_high</td>\n",
       "    </tr>\n",
       "  </tbody>\n",
       "</table>\n",
       "</div>"
      ],
      "text/plain": [
       "       id  popularity  budget_k                original_title  vote_average  \\\n",
       "0  135397   32.985763  150000.0                Jurassic World           6.5   \n",
       "1   76341   28.419936  150000.0            Mad Max: Fury Road           7.1   \n",
       "2  262500   13.112507  110000.0                     Insurgent           6.3   \n",
       "3  140607   11.173104  200000.0  Star Wars: The Force Awakens           7.5   \n",
       "4  168259    9.335014  190000.0                     Furious 7           7.3   \n",
       "\n",
       "  budget_category popularity_category  \n",
       "0       very_high           very_high  \n",
       "1       very_high           very_high  \n",
       "2       very_high           very_high  \n",
       "3       very_high           very_high  \n",
       "4       very_high           very_high  "
      ]
     },
     "execution_count": 104,
     "metadata": {},
     "output_type": "execute_result"
    }
   ],
   "source": [
    "df.head()"
   ]
  },
  {
   "cell_type": "markdown",
   "metadata": {},
   "source": [
    "After examining the vote_average variable with the budget variable, it has been shown that a movie's budget is not a reliable indicator on whether the movie will be rated higher or not. As a result of examining the popularity variable along with the budget variable, it has been shown that most of the popular movies belong to the low budget category while the high budget category had the least most popular movies.\n",
    "\n",
    "One weakness in this study is that there is an unequal amounts of low budget movies compared to higher budget movies. This would lead to the calculation of means of certain groups more reliable than others.  Another weakness in this study is that the movies included in this study were released over a time span of several decades therefore inflation could play a role in the categorizing of movies in terms of higher and lower budgets.  There were alot of movies in the dataset with a budget of zero which should have probably been entered in as null since it is very unlikely than any of movies in the data set had a budget of zero.  Another weakness in the data set was the improper formate of the release date column which should be formatted to datetime values of year/month/day.  Luckily I happen to conduct analysis that did not include the variable of date and time."
   ]
  }
 ],
 "metadata": {
  "kernelspec": {
   "display_name": "Python [default]",
   "language": "python",
   "name": "python3"
  },
  "language_info": {
   "codemirror_mode": {
    "name": "ipython",
    "version": 3
   },
   "file_extension": ".py",
   "mimetype": "text/x-python",
   "name": "python",
   "nbconvert_exporter": "python",
   "pygments_lexer": "ipython3",
   "version": "3.6.4"
  }
 },
 "nbformat": 4,
 "nbformat_minor": 2
}
